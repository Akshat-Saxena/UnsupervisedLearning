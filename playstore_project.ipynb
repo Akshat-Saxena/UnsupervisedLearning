{
 "cells": [
  {
   "cell_type": "markdown",
   "metadata": {},
   "source": [
    "# Importing libararies"
   ]
  },
  {
   "cell_type": "code",
   "execution_count": 1,
   "metadata": {},
   "outputs": [],
   "source": [
    "import numpy as np\n",
    "import pandas as pd\n",
    "import matplotlib.pyplot as plt\n",
    "%matplotlib inline"
   ]
  },
  {
   "cell_type": "markdown",
   "metadata": {},
   "source": [
    "# Loading the dataset"
   ]
  },
  {
   "cell_type": "code",
   "execution_count": 2,
   "metadata": {},
   "outputs": [
    {
     "data": {
      "text/html": [
       "<div>\n",
       "<style scoped>\n",
       "    .dataframe tbody tr th:only-of-type {\n",
       "        vertical-align: middle;\n",
       "    }\n",
       "\n",
       "    .dataframe tbody tr th {\n",
       "        vertical-align: top;\n",
       "    }\n",
       "\n",
       "    .dataframe thead th {\n",
       "        text-align: right;\n",
       "    }\n",
       "</style>\n",
       "<table border=\"1\" class=\"dataframe\">\n",
       "  <thead>\n",
       "    <tr style=\"text-align: right;\">\n",
       "      <th></th>\n",
       "      <th>App</th>\n",
       "      <th>Category</th>\n",
       "      <th>Rating</th>\n",
       "      <th>Reviews</th>\n",
       "      <th>Size</th>\n",
       "      <th>Installs</th>\n",
       "      <th>Type</th>\n",
       "      <th>Price</th>\n",
       "      <th>Content_Rating</th>\n",
       "      <th>Genres</th>\n",
       "      <th>Last Updated</th>\n",
       "      <th>Current Ver</th>\n",
       "      <th>Android Ver</th>\n",
       "    </tr>\n",
       "  </thead>\n",
       "  <tbody>\n",
       "    <tr>\n",
       "      <th>0</th>\n",
       "      <td>Photo Editor &amp; Candy Camera &amp; Grid &amp; ScrapBook</td>\n",
       "      <td>ART_AND_DESIGN</td>\n",
       "      <td>4.1</td>\n",
       "      <td>159</td>\n",
       "      <td>19M</td>\n",
       "      <td>10,000+</td>\n",
       "      <td>0.0</td>\n",
       "      <td>0</td>\n",
       "      <td>1.0</td>\n",
       "      <td>Art &amp; Design</td>\n",
       "      <td>January 7, 2018</td>\n",
       "      <td>1.0.0</td>\n",
       "      <td>4.0.3 and up</td>\n",
       "    </tr>\n",
       "    <tr>\n",
       "      <th>1</th>\n",
       "      <td>Coloring book moana</td>\n",
       "      <td>ART_AND_DESIGN</td>\n",
       "      <td>3.9</td>\n",
       "      <td>967</td>\n",
       "      <td>14M</td>\n",
       "      <td>500,000+</td>\n",
       "      <td>0.0</td>\n",
       "      <td>0</td>\n",
       "      <td>1.0</td>\n",
       "      <td>Art &amp; Design;Pretend Play</td>\n",
       "      <td>January 15, 2018</td>\n",
       "      <td>2.0.0</td>\n",
       "      <td>4.0.3 and up</td>\n",
       "    </tr>\n",
       "    <tr>\n",
       "      <th>2</th>\n",
       "      <td>U Launcher Lite – FREE Live Cool Themes, Hide ...</td>\n",
       "      <td>ART_AND_DESIGN</td>\n",
       "      <td>4.7</td>\n",
       "      <td>87510</td>\n",
       "      <td>8.7M</td>\n",
       "      <td>5,000,000+</td>\n",
       "      <td>0.0</td>\n",
       "      <td>0</td>\n",
       "      <td>1.0</td>\n",
       "      <td>Art &amp; Design</td>\n",
       "      <td>August 1, 2018</td>\n",
       "      <td>1.2.4</td>\n",
       "      <td>4.0.3 and up</td>\n",
       "    </tr>\n",
       "    <tr>\n",
       "      <th>3</th>\n",
       "      <td>Sketch - Draw &amp; Paint</td>\n",
       "      <td>ART_AND_DESIGN</td>\n",
       "      <td>4.5</td>\n",
       "      <td>215644</td>\n",
       "      <td>25M</td>\n",
       "      <td>50,000,000+</td>\n",
       "      <td>0.0</td>\n",
       "      <td>0</td>\n",
       "      <td>0.0</td>\n",
       "      <td>Art &amp; Design</td>\n",
       "      <td>June 8, 2018</td>\n",
       "      <td>Varies with device</td>\n",
       "      <td>4.2 and up</td>\n",
       "    </tr>\n",
       "    <tr>\n",
       "      <th>4</th>\n",
       "      <td>Pixel Draw - Number Art Coloring Book</td>\n",
       "      <td>ART_AND_DESIGN</td>\n",
       "      <td>4.3</td>\n",
       "      <td>967</td>\n",
       "      <td>2.8M</td>\n",
       "      <td>100,000+</td>\n",
       "      <td>0.0</td>\n",
       "      <td>0</td>\n",
       "      <td>1.0</td>\n",
       "      <td>Art &amp; Design;Creativity</td>\n",
       "      <td>June 20, 2018</td>\n",
       "      <td>1.1</td>\n",
       "      <td>4.4 and up</td>\n",
       "    </tr>\n",
       "  </tbody>\n",
       "</table>\n",
       "</div>"
      ],
      "text/plain": [
       "                                                 App        Category  Rating  \\\n",
       "0     Photo Editor & Candy Camera & Grid & ScrapBook  ART_AND_DESIGN     4.1   \n",
       "1                                Coloring book moana  ART_AND_DESIGN     3.9   \n",
       "2  U Launcher Lite – FREE Live Cool Themes, Hide ...  ART_AND_DESIGN     4.7   \n",
       "3                              Sketch - Draw & Paint  ART_AND_DESIGN     4.5   \n",
       "4              Pixel Draw - Number Art Coloring Book  ART_AND_DESIGN     4.3   \n",
       "\n",
       "  Reviews  Size     Installs  Type Price  Content_Rating  \\\n",
       "0     159   19M      10,000+   0.0     0             1.0   \n",
       "1     967   14M     500,000+   0.0     0             1.0   \n",
       "2   87510  8.7M   5,000,000+   0.0     0             1.0   \n",
       "3  215644   25M  50,000,000+   0.0     0             0.0   \n",
       "4     967  2.8M     100,000+   0.0     0             1.0   \n",
       "\n",
       "                      Genres      Last Updated         Current Ver  \\\n",
       "0               Art & Design   January 7, 2018               1.0.0   \n",
       "1  Art & Design;Pretend Play  January 15, 2018               2.0.0   \n",
       "2               Art & Design    August 1, 2018               1.2.4   \n",
       "3               Art & Design      June 8, 2018  Varies with device   \n",
       "4    Art & Design;Creativity     June 20, 2018                 1.1   \n",
       "\n",
       "    Android Ver  \n",
       "0  4.0.3 and up  \n",
       "1  4.0.3 and up  \n",
       "2  4.0.3 and up  \n",
       "3    4.2 and up  \n",
       "4    4.4 and up  "
      ]
     },
     "execution_count": 2,
     "metadata": {},
     "output_type": "execute_result"
    }
   ],
   "source": [
    "data = pd.read_csv('googleplaystore_new.csv')\n",
    "data.head()"
   ]
  },
  {
   "cell_type": "markdown",
   "metadata": {},
   "source": [
    "# Dataset information"
   ]
  },
  {
   "cell_type": "markdown",
   "metadata": {},
   "source": [
    "### 1) Displaying rows and columns "
   ]
  },
  {
   "cell_type": "code",
   "execution_count": 3,
   "metadata": {},
   "outputs": [
    {
     "data": {
      "text/plain": [
       "(10841, 13)"
      ]
     },
     "execution_count": 3,
     "metadata": {},
     "output_type": "execute_result"
    }
   ],
   "source": [
    "data.shape"
   ]
  },
  {
   "cell_type": "markdown",
   "metadata": {},
   "source": [
    "### 2) Displaying the column names"
   ]
  },
  {
   "cell_type": "code",
   "execution_count": 4,
   "metadata": {},
   "outputs": [
    {
     "data": {
      "text/plain": [
       "Index(['App', 'Category', 'Rating', 'Reviews', 'Size', 'Installs', 'Type',\n",
       "       'Price', 'Content_Rating', 'Genres', 'Last Updated', 'Current Ver',\n",
       "       'Android Ver'],\n",
       "      dtype='object')"
      ]
     },
     "execution_count": 4,
     "metadata": {},
     "output_type": "execute_result"
    }
   ],
   "source": [
    "data.columns"
   ]
  },
  {
   "cell_type": "markdown",
   "metadata": {},
   "source": [
    "### 3) Displaying data type of each column  "
   ]
  },
  {
   "cell_type": "code",
   "execution_count": 5,
   "metadata": {},
   "outputs": [
    {
     "name": "stdout",
     "output_type": "stream",
     "text": [
      "<class 'pandas.core.frame.DataFrame'>\n",
      "RangeIndex: 10841 entries, 0 to 10840\n",
      "Data columns (total 13 columns):\n",
      " #   Column          Non-Null Count  Dtype  \n",
      "---  ------          --------------  -----  \n",
      " 0   App             10841 non-null  object \n",
      " 1   Category        10841 non-null  object \n",
      " 2   Rating          9367 non-null   float64\n",
      " 3   Reviews         10841 non-null  object \n",
      " 4   Size            9146 non-null   object \n",
      " 5   Installs        10841 non-null  object \n",
      " 6   Type            10840 non-null  float64\n",
      " 7   Price           10841 non-null  object \n",
      " 8   Content_Rating  10840 non-null  float64\n",
      " 9   Genres          10841 non-null  object \n",
      " 10  Last Updated    10841 non-null  object \n",
      " 11  Current Ver     10833 non-null  object \n",
      " 12  Android Ver     10838 non-null  object \n",
      "dtypes: float64(3), object(10)\n",
      "memory usage: 1.1+ MB\n"
     ]
    }
   ],
   "source": [
    "data.info()"
   ]
  },
  {
   "cell_type": "markdown",
   "metadata": {},
   "source": [
    "### 4) displaying the number of null values"
   ]
  },
  {
   "cell_type": "code",
   "execution_count": 6,
   "metadata": {},
   "outputs": [
    {
     "data": {
      "text/plain": [
       "App                  0\n",
       "Category             0\n",
       "Rating            1474\n",
       "Reviews              0\n",
       "Size              1695\n",
       "Installs             0\n",
       "Type                 1\n",
       "Price                0\n",
       "Content_Rating       1\n",
       "Genres               0\n",
       "Last Updated         0\n",
       "Current Ver          8\n",
       "Android Ver          3\n",
       "dtype: int64"
      ]
     },
     "execution_count": 6,
     "metadata": {},
     "output_type": "execute_result"
    }
   ],
   "source": [
    "data.isnull().sum()"
   ]
  },
  {
   "cell_type": "markdown",
   "metadata": {},
   "source": [
    "### Removing null values"
   ]
  },
  {
   "cell_type": "code",
   "execution_count": 7,
   "metadata": {},
   "outputs": [],
   "source": [
    "data=data.dropna()"
   ]
  },
  {
   "cell_type": "code",
   "execution_count": 8,
   "metadata": {},
   "outputs": [
    {
     "data": {
      "text/plain": [
       "App               0\n",
       "Category          0\n",
       "Rating            0\n",
       "Reviews           0\n",
       "Size              0\n",
       "Installs          0\n",
       "Type              0\n",
       "Price             0\n",
       "Content_Rating    0\n",
       "Genres            0\n",
       "Last Updated      0\n",
       "Current Ver       0\n",
       "Android Ver       0\n",
       "dtype: int64"
      ]
     },
     "execution_count": 8,
     "metadata": {},
     "output_type": "execute_result"
    }
   ],
   "source": [
    "data.isnull().sum()"
   ]
  },
  {
   "cell_type": "code",
   "execution_count": 9,
   "metadata": {},
   "outputs": [
    {
     "data": {
      "text/plain": [
       "(7723, 13)"
      ]
     },
     "execution_count": 9,
     "metadata": {},
     "output_type": "execute_result"
    }
   ],
   "source": [
    "data.shape"
   ]
  },
  {
   "cell_type": "markdown",
   "metadata": {},
   "source": [
    "### 5) Some stats on the dataset"
   ]
  },
  {
   "cell_type": "code",
   "execution_count": 10,
   "metadata": {},
   "outputs": [
    {
     "data": {
      "text/html": [
       "<div>\n",
       "<style scoped>\n",
       "    .dataframe tbody tr th:only-of-type {\n",
       "        vertical-align: middle;\n",
       "    }\n",
       "\n",
       "    .dataframe tbody tr th {\n",
       "        vertical-align: top;\n",
       "    }\n",
       "\n",
       "    .dataframe thead th {\n",
       "        text-align: right;\n",
       "    }\n",
       "</style>\n",
       "<table border=\"1\" class=\"dataframe\">\n",
       "  <thead>\n",
       "    <tr style=\"text-align: right;\">\n",
       "      <th></th>\n",
       "      <th>Rating</th>\n",
       "      <th>Type</th>\n",
       "      <th>Content_Rating</th>\n",
       "    </tr>\n",
       "  </thead>\n",
       "  <tbody>\n",
       "    <tr>\n",
       "      <th>count</th>\n",
       "      <td>7723.000000</td>\n",
       "      <td>7723.000000</td>\n",
       "      <td>7723.000000</td>\n",
       "    </tr>\n",
       "    <tr>\n",
       "      <th>mean</th>\n",
       "      <td>4.173935</td>\n",
       "      <td>0.074712</td>\n",
       "      <td>1.018387</td>\n",
       "    </tr>\n",
       "    <tr>\n",
       "      <th>std</th>\n",
       "      <td>0.544638</td>\n",
       "      <td>0.262943</td>\n",
       "      <td>0.571646</td>\n",
       "    </tr>\n",
       "    <tr>\n",
       "      <th>min</th>\n",
       "      <td>1.000000</td>\n",
       "      <td>0.000000</td>\n",
       "      <td>0.000000</td>\n",
       "    </tr>\n",
       "    <tr>\n",
       "      <th>25%</th>\n",
       "      <td>4.000000</td>\n",
       "      <td>0.000000</td>\n",
       "      <td>1.000000</td>\n",
       "    </tr>\n",
       "    <tr>\n",
       "      <th>50%</th>\n",
       "      <td>4.300000</td>\n",
       "      <td>0.000000</td>\n",
       "      <td>1.000000</td>\n",
       "    </tr>\n",
       "    <tr>\n",
       "      <th>75%</th>\n",
       "      <td>4.500000</td>\n",
       "      <td>0.000000</td>\n",
       "      <td>1.000000</td>\n",
       "    </tr>\n",
       "    <tr>\n",
       "      <th>max</th>\n",
       "      <td>5.000000</td>\n",
       "      <td>1.000000</td>\n",
       "      <td>4.000000</td>\n",
       "    </tr>\n",
       "  </tbody>\n",
       "</table>\n",
       "</div>"
      ],
      "text/plain": [
       "            Rating         Type  Content_Rating\n",
       "count  7723.000000  7723.000000     7723.000000\n",
       "mean      4.173935     0.074712        1.018387\n",
       "std       0.544638     0.262943        0.571646\n",
       "min       1.000000     0.000000        0.000000\n",
       "25%       4.000000     0.000000        1.000000\n",
       "50%       4.300000     0.000000        1.000000\n",
       "75%       4.500000     0.000000        1.000000\n",
       "max       5.000000     1.000000        4.000000"
      ]
     },
     "execution_count": 10,
     "metadata": {},
     "output_type": "execute_result"
    }
   ],
   "source": [
    "data.describe()"
   ]
  },
  {
   "cell_type": "markdown",
   "metadata": {},
   "source": [
    "### 6) Checking for duplicate values"
   ]
  },
  {
   "cell_type": "code",
   "execution_count": 11,
   "metadata": {},
   "outputs": [
    {
     "name": "stdout",
     "output_type": "stream",
     "text": [
      "                                                   App      Category  Rating  \\\n",
      "256                                ZOOM Cloud Meetings      BUSINESS     4.4   \n",
      "266                                           Zenefits      BUSINESS     4.2   \n",
      "267                                         Google Ads      BUSINESS     4.3   \n",
      "270                                 FreshBooks Classic      BUSINESS     4.1   \n",
      "271                                      Insightly CRM      BUSINESS     3.8   \n",
      "...                                                ...           ...     ...   \n",
      "7885                   CT Scan Cross Sectional Anatomy       MEDICAL     4.3   \n",
      "8632                              Notepad & To do list  PRODUCTIVITY     4.3   \n",
      "8635   Polaris Office - Word, Docs, Sheets, Slide, PDF  PRODUCTIVITY     4.3   \n",
      "10049        Airway Ex - Intubate. Anesthetize. Train.       MEDICAL     4.3   \n",
      "10768                                             AAFP       MEDICAL     3.8   \n",
      "\n",
      "      Reviews  Size     Installs  Type Price  Content_Rating        Genres  \\\n",
      "256     31614   37M  10,000,000+   0.0     0             1.0      Business   \n",
      "266       296   14M      50,000+   0.0     0             1.0      Business   \n",
      "267     29313   20M   5,000,000+   0.0     0             1.0      Business   \n",
      "270      1802   26M     100,000+   0.0     0             1.0      Business   \n",
      "271      1383   51M     100,000+   0.0     0             1.0      Business   \n",
      "...       ...   ...          ...   ...   ...             ...           ...   \n",
      "7885       10   46M         100+   0.0     0             1.0       Medical   \n",
      "8632   226295  4.2M  10,000,000+   0.0     0             1.0  Productivity   \n",
      "8635   549900   60M  10,000,000+   0.0     0             1.0  Productivity   \n",
      "10049     123   86M      10,000+   0.0     0             1.0       Medical   \n",
      "10768      63   24M      10,000+   0.0     0             1.0       Medical   \n",
      "\n",
      "         Last Updated     Current Ver   Android Ver  \n",
      "256     July 20, 2018  4.1.28165.0716    4.0 and up  \n",
      "266     June 15, 2018           3.2.1    4.1 and up  \n",
      "267     July 30, 2018          1.12.0  4.0.3 and up  \n",
      "270    April 18, 2018          1.7.14    4.2 and up  \n",
      "271     July 12, 2018          3.24.1    5.0 and up  \n",
      "...               ...             ...           ...  \n",
      "7885    July 19, 2018          5.0.16    4.1 and up  \n",
      "8632     June 6, 2018          4.3.19  2.3.3 and up  \n",
      "8635    July 18, 2018          7.3.30    4.1 and up  \n",
      "10049    June 1, 2018          0.6.88    5.0 and up  \n",
      "10768   June 22, 2018           2.3.1    5.0 and up  \n",
      "\n",
      "[305 rows x 13 columns]\n"
     ]
    }
   ],
   "source": [
    "print(data[data.duplicated()])"
   ]
  },
  {
   "cell_type": "markdown",
   "metadata": {},
   "source": [
    "### PREROCESSING OF DATA"
   ]
  },
  {
   "cell_type": "markdown",
   "metadata": {},
   "source": [
    "### Modifying Size column and removing M and converting into kb"
   ]
  },
  {
   "cell_type": "code",
   "execution_count": 12,
   "metadata": {},
   "outputs": [
    {
     "name": "stdout",
     "output_type": "stream",
     "text": [
      "14M     165\n",
      "12M     161\n",
      "11M     159\n",
      "15M     159\n",
      "13M     157\n",
      "       ... \n",
      "8.5k      1\n",
      "313k      1\n",
      "478k      1\n",
      "33k       1\n",
      "78k       1\n",
      "Name: Size, Length: 412, dtype: int64\n"
     ]
    },
    {
     "data": {
      "text/plain": [
       "14000.0    165\n",
       "12000.0    161\n",
       "15000.0    159\n",
       "11000.0    159\n",
       "13000.0    157\n",
       "          ... \n",
       "957.0        1\n",
       "975.0        1\n",
       "412.0        1\n",
       "887.0        1\n",
       "485.0        1\n",
       "Name: Size, Length: 411, dtype: int64"
      ]
     },
     "execution_count": 12,
     "metadata": {},
     "output_type": "execute_result"
    }
   ],
   "source": [
    "print(data.Size.value_counts())\n",
    "\n",
    "def change(Size):\n",
    "    if 'M'in Size:\n",
    "        x=Size[:-1]\n",
    "        x=float(x)*1000\n",
    "        return x\n",
    "\n",
    "    elif 'k'in Size:\n",
    "        x=Size[:-1]\n",
    "        x=float(x)\n",
    "        return x\n",
    "    \n",
    "    else: return None\n",
    "\n",
    "    \n",
    "data.Size=data.Size.map(change)\n",
    "data.Size.value_counts()"
   ]
  },
  {
   "cell_type": "markdown",
   "metadata": {},
   "source": [
    "### Modifying Installs column and removing , + symbol"
   ]
  },
  {
   "cell_type": "code",
   "execution_count": 13,
   "metadata": {},
   "outputs": [
    {
     "name": "stdout",
     "output_type": "stream",
     "text": [
      "1,000,000+     1301\n",
      "100,000+       1037\n",
      "10,000+         968\n",
      "10,000,000+     825\n",
      "1,000+          689\n",
      "Name: Installs, dtype: int64\n",
      "1000000     1301\n",
      "100000      1037\n",
      "10000        968\n",
      "10000000     825\n",
      "1000         689\n",
      "Name: Installs, dtype: int64\n",
      "0        7146\n",
      "$0.99     105\n",
      "$2.99     101\n",
      "$4.99      63\n",
      "$1.99      53\n",
      "Name: Price, dtype: int64\n",
      "0       7146\n",
      "0.99     105\n",
      "2.99     101\n",
      "4.99      63\n",
      "1.99      53\n",
      "Name: Price, dtype: int64\n",
      "App                object\n",
      "Category           object\n",
      "Rating            float64\n",
      "Reviews           float64\n",
      "Size              float64\n",
      "Installs          float64\n",
      "Type              float64\n",
      "Price             float64\n",
      "Content_Rating    float64\n",
      "Genres             object\n",
      "Last Updated       object\n",
      "Current Ver        object\n",
      "Android Ver        object\n",
      "dtype: object\n"
     ]
    }
   ],
   "source": [
    "data.Reviews=data.Reviews.astype('float')\n",
    "\n",
    "print(data.Installs.value_counts()[:5])\n",
    "data.Installs=data.Installs.map(lambda x:x.replace(',','').replace('+',''))\n",
    "print(data.Installs.value_counts()[:5])\n",
    "data.Installs=data.Installs.astype('float')\n",
    "\n",
    "print(data.Price.value_counts()[:5])\n",
    "data.Price=data.Price.map(lambda x:x.replace('$',''))\n",
    "print(data.Price.value_counts()[:5])\n",
    "data.Price=data.Price.astype('float')\n",
    "\n",
    "print(data.dtypes)"
   ]
  },
  {
   "cell_type": "markdown",
   "metadata": {},
   "source": [
    "### Changing Data types of other columns"
   ]
  },
  {
   "cell_type": "code",
   "execution_count": 14,
   "metadata": {},
   "outputs": [],
   "source": [
    "data[\"Content_Rating\"] = pd.to_numeric(data[\"Content_Rating\"])"
   ]
  },
  {
   "cell_type": "code",
   "execution_count": 15,
   "metadata": {},
   "outputs": [
    {
     "name": "stdout",
     "output_type": "stream",
     "text": [
      "<class 'pandas.core.frame.DataFrame'>\n",
      "Int64Index: 7723 entries, 0 to 10840\n",
      "Data columns (total 13 columns):\n",
      " #   Column          Non-Null Count  Dtype  \n",
      "---  ------          --------------  -----  \n",
      " 0   App             7723 non-null   object \n",
      " 1   Category        7723 non-null   object \n",
      " 2   Rating          7723 non-null   float64\n",
      " 3   Reviews         7723 non-null   float64\n",
      " 4   Size            7723 non-null   float64\n",
      " 5   Installs        7723 non-null   float64\n",
      " 6   Type            7723 non-null   int32  \n",
      " 7   Price           7723 non-null   int32  \n",
      " 8   Content_Rating  7723 non-null   int32  \n",
      " 9   Genres          7723 non-null   object \n",
      " 10  Last Updated    7723 non-null   object \n",
      " 11  Current Ver     7723 non-null   object \n",
      " 12  Android Ver     7723 non-null   object \n",
      "dtypes: float64(4), int32(3), object(6)\n",
      "memory usage: 754.2+ KB\n"
     ]
    }
   ],
   "source": [
    "data.Content_Rating=data.Content_Rating.astype('int')\n",
    "data.Price=data.Price.astype('int')\n",
    "data.Type=data.Type.astype('int')\n",
    "data.info()"
   ]
  },
  {
   "cell_type": "markdown",
   "metadata": {},
   "source": [
    "### 7.) Checking the correlation of attributes with each other"
   ]
  },
  {
   "cell_type": "code",
   "execution_count": 16,
   "metadata": {},
   "outputs": [
    {
     "data": {
      "text/html": [
       "<div>\n",
       "<style scoped>\n",
       "    .dataframe tbody tr th:only-of-type {\n",
       "        vertical-align: middle;\n",
       "    }\n",
       "\n",
       "    .dataframe tbody tr th {\n",
       "        vertical-align: top;\n",
       "    }\n",
       "\n",
       "    .dataframe thead th {\n",
       "        text-align: right;\n",
       "    }\n",
       "</style>\n",
       "<table border=\"1\" class=\"dataframe\">\n",
       "  <thead>\n",
       "    <tr style=\"text-align: right;\">\n",
       "      <th></th>\n",
       "      <th>Rating</th>\n",
       "      <th>Reviews</th>\n",
       "      <th>Size</th>\n",
       "      <th>Installs</th>\n",
       "      <th>Type</th>\n",
       "      <th>Price</th>\n",
       "      <th>Content_Rating</th>\n",
       "    </tr>\n",
       "  </thead>\n",
       "  <tbody>\n",
       "    <tr>\n",
       "      <th>Rating</th>\n",
       "      <td>1.000000</td>\n",
       "      <td>0.079819</td>\n",
       "      <td>0.083640</td>\n",
       "      <td>0.052693</td>\n",
       "      <td>0.041180</td>\n",
       "      <td>-0.021940</td>\n",
       "      <td>-0.007237</td>\n",
       "    </tr>\n",
       "    <tr>\n",
       "      <th>Reviews</th>\n",
       "      <td>0.079819</td>\n",
       "      <td>1.000000</td>\n",
       "      <td>0.240382</td>\n",
       "      <td>0.626187</td>\n",
       "      <td>-0.043887</td>\n",
       "      <td>-0.009618</td>\n",
       "      <td>0.103743</td>\n",
       "    </tr>\n",
       "    <tr>\n",
       "      <th>Size</th>\n",
       "      <td>0.083640</td>\n",
       "      <td>0.240382</td>\n",
       "      <td>1.000000</td>\n",
       "      <td>0.162707</td>\n",
       "      <td>-0.028124</td>\n",
       "      <td>-0.026086</td>\n",
       "      <td>0.039086</td>\n",
       "    </tr>\n",
       "    <tr>\n",
       "      <th>Installs</th>\n",
       "      <td>0.052693</td>\n",
       "      <td>0.626187</td>\n",
       "      <td>0.162707</td>\n",
       "      <td>1.000000</td>\n",
       "      <td>-0.047260</td>\n",
       "      <td>-0.010242</td>\n",
       "      <td>0.037471</td>\n",
       "    </tr>\n",
       "    <tr>\n",
       "      <th>Type</th>\n",
       "      <td>0.041180</td>\n",
       "      <td>-0.043887</td>\n",
       "      <td>-0.028124</td>\n",
       "      <td>-0.047260</td>\n",
       "      <td>1.000000</td>\n",
       "      <td>0.215167</td>\n",
       "      <td>0.016706</td>\n",
       "    </tr>\n",
       "    <tr>\n",
       "      <th>Price</th>\n",
       "      <td>-0.021940</td>\n",
       "      <td>-0.009618</td>\n",
       "      <td>-0.026086</td>\n",
       "      <td>-0.010242</td>\n",
       "      <td>0.215167</td>\n",
       "      <td>1.000000</td>\n",
       "      <td>-0.005465</td>\n",
       "    </tr>\n",
       "    <tr>\n",
       "      <th>Content_Rating</th>\n",
       "      <td>-0.007237</td>\n",
       "      <td>0.103743</td>\n",
       "      <td>0.039086</td>\n",
       "      <td>0.037471</td>\n",
       "      <td>0.016706</td>\n",
       "      <td>-0.005465</td>\n",
       "      <td>1.000000</td>\n",
       "    </tr>\n",
       "  </tbody>\n",
       "</table>\n",
       "</div>"
      ],
      "text/plain": [
       "                  Rating   Reviews      Size  Installs      Type     Price  \\\n",
       "Rating          1.000000  0.079819  0.083640  0.052693  0.041180 -0.021940   \n",
       "Reviews         0.079819  1.000000  0.240382  0.626187 -0.043887 -0.009618   \n",
       "Size            0.083640  0.240382  1.000000  0.162707 -0.028124 -0.026086   \n",
       "Installs        0.052693  0.626187  0.162707  1.000000 -0.047260 -0.010242   \n",
       "Type            0.041180 -0.043887 -0.028124 -0.047260  1.000000  0.215167   \n",
       "Price          -0.021940 -0.009618 -0.026086 -0.010242  0.215167  1.000000   \n",
       "Content_Rating -0.007237  0.103743  0.039086  0.037471  0.016706 -0.005465   \n",
       "\n",
       "                Content_Rating  \n",
       "Rating               -0.007237  \n",
       "Reviews               0.103743  \n",
       "Size                  0.039086  \n",
       "Installs              0.037471  \n",
       "Type                  0.016706  \n",
       "Price                -0.005465  \n",
       "Content_Rating        1.000000  "
      ]
     },
     "execution_count": 16,
     "metadata": {},
     "output_type": "execute_result"
    }
   ],
   "source": [
    "data.corr()"
   ]
  },
  {
   "cell_type": "markdown",
   "metadata": {},
   "source": [
    "### 8) Applying Machine Learning Techniques"
   ]
  },
  {
   "cell_type": "code",
   "execution_count": 17,
   "metadata": {},
   "outputs": [],
   "source": [
    "import sklearn\n",
    "from sklearn.model_selection import train_test_split\n",
    "from sklearn.linear_model import LogisticRegression\n",
    "from sklearn import metrics\n",
    "from sklearn.metrics import r2_score\n",
    "from sklearn.preprocessing import StandardScaler"
   ]
  },
  {
   "cell_type": "markdown",
   "metadata": {},
   "source": [
    "### Applying K- means"
   ]
  },
  {
   "cell_type": "code",
   "execution_count": 18,
   "metadata": {},
   "outputs": [],
   "source": [
    "x = data.iloc[:,[2,3,4,5,6,7,8]].values     #Rating, Review, Size, Installs, Type, Price, Content_Rating "
   ]
  },
  {
   "cell_type": "markdown",
   "metadata": {},
   "source": [
    "### Feature Scaling"
   ]
  },
  {
   "cell_type": "code",
   "execution_count": 19,
   "metadata": {},
   "outputs": [],
   "source": [
    "from sklearn.preprocessing import StandardScaler\n",
    "sc_x = StandardScaler()\n",
    "x = sc_x.fit_transform(x)"
   ]
  },
  {
   "cell_type": "markdown",
   "metadata": {},
   "source": [
    "### Applying PCA"
   ]
  },
  {
   "cell_type": "code",
   "execution_count": 20,
   "metadata": {},
   "outputs": [],
   "source": [
    "from sklearn.decomposition import PCA\n",
    "pca = PCA(n_components = 2)\n",
    "x = pca.fit_transform(x)\n",
    "explained_variance = pca.explained_variance_ratio_\n"
   ]
  },
  {
   "cell_type": "code",
   "execution_count": 21,
   "metadata": {},
   "outputs": [
    {
     "name": "stdout",
     "output_type": "stream",
     "text": [
      "[0.25386365 0.17316263]\n"
     ]
    }
   ],
   "source": [
    "print(explained_variance)"
   ]
  },
  {
   "cell_type": "markdown",
   "metadata": {},
   "source": [
    "### Elbow Method"
   ]
  },
  {
   "cell_type": "code",
   "execution_count": 22,
   "metadata": {},
   "outputs": [
    {
     "data": {
      "image/png": "[encoded data removed]",
      "text/plain": [
       "<Figure size 432x288 with 1 Axes>"
      ]
     },
     "metadata": {},
     "output_type": "display_data"
    }
   ],
   "source": [
    "from sklearn.cluster import KMeans\n",
    "wcss = []\n",
    "for i in range(1,11):\n",
    "    kmeans = KMeans(n_clusters = i, init = 'k-means++', random_state = 30)\n",
    "    kmeans.fit(x)\n",
    "    wcss.append(kmeans.inertia_)\n",
    "plt.plot(range(1,11), wcss)\n",
    "plt.title('Elbow Method')\n",
    "plt.xlabel('No of clusters')\n",
    "plt.ylabel('WCSS')\n",
    "plt.show()"
   ]
  },
  {
   "cell_type": "code",
   "execution_count": 23,
   "metadata": {},
   "outputs": [
    {
     "data": {
      "text/plain": [
       "array([0, 0, 0, ..., 0, 0, 0])"
      ]
     },
     "execution_count": 23,
     "metadata": {},
     "output_type": "execute_result"
    }
   ],
   "source": [
    "kmeans = KMeans(n_clusters = 5, init = 'k-means++', random_state = 30)\n",
    "kmeans.fit(x)\n",
    "y_kmeans = kmeans.fit_predict(x)\n",
    "y_kmeans"
   ]
  },
  {
   "cell_type": "code",
   "execution_count": 24,
   "metadata": {},
   "outputs": [
    {
     "data": {
      "image/png": "[encoded data removed]",
      "text/plain": [
       "<Figure size 432x288 with 1 Axes>"
      ]
     },
     "metadata": {},
     "output_type": "display_data"
    }
   ],
   "source": [
    "plt.scatter(x[y_kmeans == 0, 0], x[y_kmeans == 0, 1], s=100, c = 'red', label = 'tier_1')\n",
    "plt.scatter(x[y_kmeans == 1, 0], x[y_kmeans == 1, 1], s=100, c = 'blue', label = 'tier_2')\n",
    "plt.scatter(x[y_kmeans == 2, 0], x[y_kmeans == 2, 1], s=100, c = 'green', label = 'tier_3')\n",
    "plt.scatter(x[y_kmeans == 3, 0], x[y_kmeans == 3, 1], s=100, c = 'cyan', label = 'tier_4')\n",
    "plt.scatter(x[y_kmeans == 4, 0], x[y_kmeans == 4, 1], s=100, c = 'magenta', label = 'tier_5')\n",
    "plt.title(\"clusters of apps\")\n",
    "plt.xlabel(\"PC1\")\n",
    "plt.ylabel(\"PC2\")\n",
    "plt.legend()\n",
    "plt.show()"
   ]
  },
  {
   "cell_type": "markdown",
   "metadata": {},
   "source": [
    "### HIERARCHICAL CLUSTERING"
   ]
  },
  {
   "cell_type": "code",
   "execution_count": 25,
   "metadata": {},
   "outputs": [],
   "source": [
    "x = data.iloc[:,[2,5]].values  #Rating ...&... #Installs"
   ]
  },
  {
   "cell_type": "markdown",
   "metadata": {},
   "source": [
    "### Feature Scaling"
   ]
  },
  {
   "cell_type": "code",
   "execution_count": 26,
   "metadata": {},
   "outputs": [
    {
     "name": "stdout",
     "output_type": "stream",
     "text": [
      "[[-0.13575945 -0.16776413]\n",
      " [-0.50299945 -0.15799426]\n",
      " [ 0.96596057 -0.06827091]\n",
      " ...\n",
      " [ 0.59872056 -0.16786382]\n",
      " [ 1.51682058 -0.16796152]\n",
      " [ 0.59872056  0.03142171]]\n"
     ]
    }
   ],
   "source": [
    "from sklearn.preprocessing import StandardScaler\n",
    "sc_x = StandardScaler()\n",
    "x = sc_x.fit_transform(x)\n",
    "print(x)"
   ]
  },
  {
   "cell_type": "code",
   "execution_count": 27,
   "metadata": {},
   "outputs": [],
   "source": [
    "import scipy.cluster.hierarchy as sch"
   ]
  },
  {
   "cell_type": "markdown",
   "metadata": {},
   "source": [
    "### Dendrogram"
   ]
  },
  {
   "cell_type": "code",
   "execution_count": 28,
   "metadata": {},
   "outputs": [
    {
     "data": {
      "image/png": "[encoded data removed]",
      "text/plain": [
       "<Figure size 432x288 with 1 Axes>"
      ]
     },
     "metadata": {},
     "output_type": "display_data"
    }
   ],
   "source": [
    "dendrogram = sch.dendrogram(sch.linkage(x, method = 'ward'))\n",
    "plt.title('dendrogram')\n",
    "plt.show()"
   ]
  },
  {
   "cell_type": "markdown",
   "metadata": {},
   "source": [
    "### Training The Model"
   ]
  },
  {
   "cell_type": "code",
   "execution_count": 29,
   "metadata": {},
   "outputs": [],
   "source": [
    "from sklearn.cluster import AgglomerativeClustering\n",
    "hc = AgglomerativeClustering(n_clusters = 3, affinity = 'euclidean', linkage = 'ward')\n",
    "y_hc = hc.fit_predict(x)"
   ]
  },
  {
   "cell_type": "markdown",
   "metadata": {},
   "source": [
    "### Visualising The Clusters"
   ]
  },
  {
   "cell_type": "code",
   "execution_count": 31,
   "metadata": {},
   "outputs": [
    {
     "data": {
      "image/png": "[encoded data removed]",
      "text/plain": [
       "<Figure size 432x288 with 1 Axes>"
      ]
     },
     "metadata": {},
     "output_type": "display_data"
    }
   ],
   "source": [
    "plt.scatter(x[y_hc == 0, 0], x[y_hc == 0, 1], s=100, c = 'red', label = 'unsuccesful apps')\n",
    "plt.scatter(x[y_hc == 1, 0], x[y_hc == 1, 1], s=100, c = 'blue', label = 'succesful apps')\n",
    "plt.scatter(x[y_hc == 2, 0], x[y_hc == 2, 1], s=100, c = 'green', label = 'well to do apps')\n",
    "plt.title(\"clusters of apps\")\n",
    "plt.xlabel(\"rating\")\n",
    "plt.ylabel(\"number of Installs\")\n",
    "plt.legend()\n",
    "plt.show()"
   ]
  },
  {
   "cell_type": "markdown",
   "metadata": {},
   "source": [
    "### EXTENDING HEIRARCHICAL CLUSTERING TO MORE COLUMNS"
   ]
  },
  {
   "cell_type": "code",
   "execution_count": 32,
   "metadata": {},
   "outputs": [],
   "source": [
    "x = data.iloc[:,[2,3,4,5,6,7,8]].values   #Rating, Review, Size, Installs, Type, Price, Content_Rating "
   ]
  },
  {
   "cell_type": "code",
   "execution_count": 33,
   "metadata": {},
   "outputs": [
    {
     "data": {
      "text/plain": [
       "array([[1.90950798e-04, 7.40516509e-03, 8.84893942e-01, ...,\n",
       "        0.00000000e+00, 0.00000000e+00, 4.65733654e-05],\n",
       "       [7.79692963e-06, 1.93323870e-03, 2.79889781e-02, ...,\n",
       "        0.00000000e+00, 0.00000000e+00, 1.99921272e-06],\n",
       "       [9.39854640e-07, 1.74992935e-02, 1.73973093e-03, ...,\n",
       "        0.00000000e+00, 0.00000000e+00, 1.99969072e-07],\n",
       "       ...,\n",
       "       [8.45303133e-05, 7.13811534e-04, 9.95579245e-01, ...,\n",
       "        0.00000000e+00, 0.00000000e+00, 1.87845141e-05],\n",
       "       [1.38835111e-03, 1.11068089e-03, 9.99612802e-01, ...,\n",
       "        0.00000000e+00, 0.00000000e+00, 2.77670223e-04],\n",
       "       [4.49642655e-07, 3.97990704e-02, 1.89849121e-03, ...,\n",
       "        0.00000000e+00, 0.00000000e+00, 9.99205900e-08]])"
      ]
     },
     "execution_count": 33,
     "metadata": {},
     "output_type": "execute_result"
    }
   ],
   "source": [
    "from sklearn import preprocessing\n",
    "x = preprocessing.normalize(x)\n",
    "x"
   ]
  },
  {
   "cell_type": "code",
   "execution_count": 34,
   "metadata": {},
   "outputs": [],
   "source": [
    "from sklearn.preprocessing import StandardScaler\n",
    "sc_x = StandardScaler()\n",
    "x = sc_x.fit_transform(x)"
   ]
  },
  {
   "cell_type": "code",
   "execution_count": 35,
   "metadata": {},
   "outputs": [
    {
     "name": "stdout",
     "output_type": "stream",
     "text": [
      "[0.40367301 0.26052881]\n"
     ]
    }
   ],
   "source": [
    "from sklearn.decomposition import PCA\n",
    "pca = PCA(n_components = 2)\n",
    "x = pca.fit_transform(x)\n",
    "explained_variance = pca.explained_variance_ratio_\n",
    "print(explained_variance)\n"
   ]
  },
  {
   "cell_type": "code",
   "execution_count": 36,
   "metadata": {},
   "outputs": [
    {
     "data": {
      "image/png": "[encoded data removed]",
      "text/plain": [
       "<Figure size 432x288 with 1 Axes>"
      ]
     },
     "metadata": {},
     "output_type": "display_data"
    }
   ],
   "source": [
    "import scipy.cluster.hierarchy as sch\n",
    "dendrogram = sch.dendrogram(sch.linkage(x, method = 'ward'))\n",
    "plt.title('dendrogram')\n",
    "plt.show()"
   ]
  },
  {
   "cell_type": "code",
   "execution_count": 37,
   "metadata": {},
   "outputs": [],
   "source": [
    "from sklearn.cluster import AgglomerativeClustering\n",
    "hc = AgglomerativeClustering(n_clusters = 3, affinity = 'euclidean', linkage = 'ward')\n",
    "y_hc = hc.fit_predict(x)"
   ]
  },
  {
   "cell_type": "code",
   "execution_count": 39,
   "metadata": {},
   "outputs": [
    {
     "data": {
      "image/png": "[encoded data removed]",
      "text/plain": [
       "<Figure size 432x288 with 1 Axes>"
      ]
     },
     "metadata": {},
     "output_type": "display_data"
    }
   ],
   "source": [
    "plt.scatter(x[y_hc == 0, 0], x[y_hc == 0, 1], s=100, c = 'red', label = 'well_to_do_apps')\n",
    "plt.scatter(x[y_hc == 1, 0], x[y_hc == 1, 1], s=100, c = 'blue', label = 'unsuccesful apps')\n",
    "plt.scatter(x[y_hc == 2, 0], x[y_hc == 2, 1], s=100, c = 'green', label = 'succesful apps')\n",
    "plt.title(\"clusters of apps\")\n",
    "plt.xlabel(\"PC1\")\n",
    "plt.ylabel(\"PC2\")\n",
    "plt.legend()\n",
    "plt.show()"
   ]
  },
  {
   "cell_type": "code",
   "execution_count": 54,
   "metadata": {},
   "outputs": [],
   "source": [
    "x = data.iloc[:,[4,5,6]].values  # Size, Installs and Type"
   ]
  },
  {
   "cell_type": "code",
   "execution_count": 55,
   "metadata": {},
   "outputs": [
    {
     "data": {
      "text/plain": [
       "array([[-0.16932947, -0.16776413, -0.28415572],\n",
       "       [-0.38256626, -0.15799426, -0.28415572],\n",
       "       [-0.60859727, -0.06827091, -0.28415572],\n",
       "       ...,\n",
       "       [ 1.28068074, -0.16786382, -0.28415572],\n",
       "       [-0.8260988 , -0.16796152, -0.28415572],\n",
       "       [-0.16932947,  0.03142171, -0.28415572]])"
      ]
     },
     "execution_count": 55,
     "metadata": {},
     "output_type": "execute_result"
    }
   ],
   "source": [
    "from sklearn.preprocessing import StandardScaler\n",
    "sc_x = StandardScaler()\n",
    "x = sc_x.fit_transform(x)\n",
    "x"
   ]
  },
  {
   "cell_type": "code",
   "execution_count": 45,
   "metadata": {},
   "outputs": [
    {
     "data": {
      "text/plain": [
       "array([[-0.45654512, -0.45232467, -0.76613899],\n",
       "       [-0.76199408, -0.31469238, -0.56598032],\n",
       "       [-0.90145641, -0.10112311, -0.42089245],\n",
       "       ...,\n",
       "       [ 0.96836212, -0.126927  , -0.21485888],\n",
       "       [-0.92861438, -0.18880488, -0.31941831],\n",
       "       [-0.50961197,  0.0945664 , -0.8551917 ]])"
      ]
     },
     "execution_count": 45,
     "metadata": {},
     "output_type": "execute_result"
    }
   ],
   "source": [
    "#from sklearn import preprocessing\n",
    "#x = preprocessing.normalize(x)\n",
    "#x"
   ]
  },
  {
   "cell_type": "code",
   "execution_count": 56,
   "metadata": {},
   "outputs": [
    {
     "name": "stdout",
     "output_type": "stream",
     "text": [
      "[0.39288615 0.32840939]\n"
     ]
    }
   ],
   "source": [
    "from sklearn.decomposition import PCA\n",
    "pca = PCA(n_components = 2)\n",
    "x = pca.fit_transform(x)\n",
    "explained_variance = pca.explained_variance_ratio_\n",
    "print(explained_variance)\n"
   ]
  },
  {
   "cell_type": "code",
   "execution_count": 57,
   "metadata": {},
   "outputs": [
    {
     "data": {
      "image/png": "[encoded data removed]",
      "text/plain": [
       "<Figure size 432x288 with 1 Axes>"
      ]
     },
     "metadata": {},
     "output_type": "display_data"
    }
   ],
   "source": [
    "import scipy.cluster.hierarchy as sch\n",
    "dendrogram = sch.dendrogram(sch.linkage(x, method = 'ward'))\n",
    "plt.title('dendrogram')\n",
    "plt.show()"
   ]
  },
  {
   "cell_type": "code",
   "execution_count": 58,
   "metadata": {},
   "outputs": [],
   "source": [
    "from sklearn.cluster import AgglomerativeClustering\n",
    "hc = AgglomerativeClustering(n_clusters = 3, affinity = 'euclidean', linkage = 'ward')\n",
    "y_hc = hc.fit_predict(x)"
   ]
  },
  {
   "cell_type": "code",
   "execution_count": 60,
   "metadata": {},
   "outputs": [
    {
     "data": {
      "image/png": "[encoded data removed]",
      "text/plain": [
       "<Figure size 432x288 with 1 Axes>"
      ]
     },
     "metadata": {},
     "output_type": "display_data"
    }
   ],
   "source": [
    "plt.scatter(x[y_hc == 0, 0], x[y_hc == 0, 1], s=100, c = 'red', label = 'tier_3')\n",
    "plt.scatter(x[y_hc == 1, 0], x[y_hc == 1, 1], s=100, c = 'blue', label = 'tier_2')\n",
    "plt.scatter(x[y_hc == 2, 0], x[y_hc == 2, 1], s=100, c = 'green', label = 'tier_1')\n",
    "plt.title(\"clusters of apps\")\n",
    "plt.xlabel(\"PC1\")\n",
    "plt.ylabel(\"PC2\")\n",
    "plt.legend()\n",
    "plt.show()"
   ]
  },
  {
   "cell_type": "code",
   "execution_count": 66,
   "metadata": {},
   "outputs": [],
   "source": [
    "x = data.iloc[:,[5,6]].values # Installs and Types"
   ]
  },
  {
   "cell_type": "code",
   "execution_count": 67,
   "metadata": {},
   "outputs": [
    {
     "data": {
      "text/plain": [
       "array([[-0.16776413, -0.28415572],\n",
       "       [-0.15799426, -0.28415572],\n",
       "       [-0.06827091, -0.28415572],\n",
       "       ...,\n",
       "       [-0.16786382, -0.28415572],\n",
       "       [-0.16796152, -0.28415572],\n",
       "       [ 0.03142171, -0.28415572]])"
      ]
     },
     "execution_count": 67,
     "metadata": {},
     "output_type": "execute_result"
    }
   ],
   "source": [
    "from sklearn.preprocessing import StandardScaler\n",
    "sc_x = StandardScaler()\n",
    "x = sc_x.fit_transform(x)\n",
    "x"
   ]
  },
  {
   "cell_type": "code",
   "execution_count": 68,
   "metadata": {},
   "outputs": [
    {
     "data": {
      "image/png": "[encoded data removed]",
      "text/plain": [
       "<Figure size 432x288 with 1 Axes>"
      ]
     },
     "metadata": {},
     "output_type": "display_data"
    }
   ],
   "source": [
    "import scipy.cluster.hierarchy as sch\n",
    "dendrogram = sch.dendrogram(sch.linkage(x, method = 'ward'))\n",
    "plt.title('dendrogram')\n",
    "plt.show()"
   ]
  },
  {
   "cell_type": "code",
   "execution_count": 64,
   "metadata": {},
   "outputs": [],
   "source": [
    "from sklearn.cluster import AgglomerativeClustering\n",
    "hc = AgglomerativeClustering(n_clusters = 3, affinity = 'euclidean', linkage = 'ward')\n",
    "y_hc = hc.fit_predict(x)"
   ]
  },
  {
   "cell_type": "code",
   "execution_count": 69,
   "metadata": {},
   "outputs": [
    {
     "data": {
      "image/png": "[encoded data removed]",
      "text/plain": [
       "<Figure size 432x288 with 1 Axes>"
      ]
     },
     "metadata": {},
     "output_type": "display_data"
    }
   ],
   "source": [
    "plt.scatter(x[y_hc == 0, 0], x[y_hc == 0, 1], s=100, c = 'red', label = 'tier_3')\n",
    "plt.scatter(x[y_hc == 1, 0], x[y_hc == 1, 1], s=100, c = 'blue', label = 'tier_2')\n",
    "plt.scatter(x[y_hc == 2, 0], x[y_hc == 2, 1], s=100, c = 'green', label = 'tier_1')\n",
    "plt.title(\"clusters of apps\")\n",
    "plt.xlabel(\"size\")\n",
    "plt.ylabel(\"Installs\")\n",
    "plt.legend()\n",
    "plt.show()"
   ]
  },
  {
   "cell_type": "code",
   "execution_count": null,
   "metadata": {},
   "outputs": [],
   "source": []
  }
 ],
 "metadata": {
  "kernelspec": {
   "display_name": "Python 3",
   "language": "python",
   "name": "python3"
  },
  "language_info": {
   "codemirror_mode": {
    "name": "ipython",
    "version": 3
   },
   "file_extension": ".py",
   "mimetype": "text/x-python",
   "name": "python",
   "nbconvert_exporter": "python",
   "pygments_lexer": "ipython3",
   "version": "3.6.5"
  }
 },
 "nbformat": 4,
 "nbformat_minor": 2
}
